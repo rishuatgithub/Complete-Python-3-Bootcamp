{
 "cells": [
  {
   "cell_type": "code",
   "execution_count": 4,
   "metadata": {},
   "outputs": [],
   "source": [
    "import os\n",
    "\n",
    "filedirectory=\"/Users/rishushrivastava/Pictures/Family/jpeg\"\n",
    "\n",
    "filelist = [files for files in os.listdir(filedirectory)]"
   ]
  },
  {
   "cell_type": "code",
   "execution_count": 11,
   "metadata": {},
   "outputs": [
    {
     "data": {
      "text/plain": [
       "['DSC_8255.jpg',\n",
       " 'DSC_8244.jpg',\n",
       " 'DSC_8221.jpg',\n",
       " 'DSC_8180.jpg',\n",
       " 'DSC_8154.jpg',\n",
       " 'DSC_8237.jpg',\n",
       " 'DSC_8233.jpg',\n",
       " 'DSC_8144.jpg',\n",
       " 'DSC_8184.jpg',\n",
       " 'DSC_8225.jpg',\n",
       " 'DSC_8177.jpg',\n",
       " 'DSC_8229.jpg',\n",
       " 'DSC_8206.jpg',\n",
       " 'DSC_8166.jpg']"
      ]
     },
     "execution_count": 11,
     "metadata": {},
     "output_type": "execute_result"
    }
   ],
   "source": [
    "filelist"
   ]
  },
  {
   "cell_type": "code",
   "execution_count": 13,
   "metadata": {},
   "outputs": [
    {
     "data": {
      "text/plain": [
       "'DSC_8244.jpg'"
      ]
     },
     "execution_count": 13,
     "metadata": {},
     "output_type": "execute_result"
    }
   ],
   "source": [
    "filelistdict = { ind: name for (ind,name) in enumerate(filelist) }\n",
    "filelistdict[1]"
   ]
  },
  {
   "cell_type": "code",
   "execution_count": 14,
   "metadata": {},
   "outputs": [
    {
     "name": "stdout",
     "output_type": "stream",
     "text": [
      "Enter a number :2\n"
     ]
    }
   ],
   "source": [
    "userinput = int(input(\"Enter a number :\"))"
   ]
  },
  {
   "cell_type": "code",
   "execution_count": null,
   "metadata": {},
   "outputs": [],
   "source": [
    "filetoopen = filelistdict[userinput]\n",
    "\n",
    "with open(filetoopen) as file:\n",
    "    file.read()"
   ]
  }
 ],
 "metadata": {
  "kernelspec": {
   "display_name": "Python 3",
   "language": "python",
   "name": "python3"
  },
  "language_info": {
   "codemirror_mode": {
    "name": "ipython",
    "version": 3
   },
   "file_extension": ".py",
   "mimetype": "text/x-python",
   "name": "python",
   "nbconvert_exporter": "python",
   "pygments_lexer": "ipython3",
   "version": "3.7.4"
  }
 },
 "nbformat": 4,
 "nbformat_minor": 2
}
