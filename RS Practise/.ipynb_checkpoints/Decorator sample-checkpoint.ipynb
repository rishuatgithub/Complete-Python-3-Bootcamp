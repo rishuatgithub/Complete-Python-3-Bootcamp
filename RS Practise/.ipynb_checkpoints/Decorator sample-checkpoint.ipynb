{
 "cells": [
  {
   "cell_type": "code",
   "execution_count": 1,
   "metadata": {},
   "outputs": [],
   "source": [
    "def func1():\n",
    "    print(\"Hello func1\")"
   ]
  },
  {
   "cell_type": "code",
   "execution_count": 2,
   "metadata": {},
   "outputs": [
    {
     "data": {
      "text/plain": [
       "<function __main__.func1()>"
      ]
     },
     "execution_count": 2,
     "metadata": {},
     "output_type": "execute_result"
    }
   ],
   "source": [
    "func1"
   ]
  },
  {
   "cell_type": "code",
   "execution_count": 3,
   "metadata": {},
   "outputs": [
    {
     "name": "stdout",
     "output_type": "stream",
     "text": [
      "Hello func1\n"
     ]
    }
   ],
   "source": [
    "func1()"
   ]
  },
  {
   "cell_type": "code",
   "execution_count": 4,
   "metadata": {},
   "outputs": [],
   "source": [
    "def welcome(func):\n",
    "    \n",
    "    print(\"Starting\")\n",
    "    \n",
    "    func()\n",
    "    \n",
    "    print(\"End\")\n",
    "    \n",
    "    return func"
   ]
  },
  {
   "cell_type": "code",
   "execution_count": 5,
   "metadata": {},
   "outputs": [
    {
     "name": "stdout",
     "output_type": "stream",
     "text": [
      "Starting\n",
      "Hello func1\n",
      "End\n"
     ]
    }
   ],
   "source": [
    "greet = welcome(func1)"
   ]
  },
  {
   "cell_type": "code",
   "execution_count": 26,
   "metadata": {},
   "outputs": [
    {
     "name": "stdout",
     "output_type": "stream",
     "text": [
      "Starting\n",
      "\tHello from func2\n",
      "End\n"
     ]
    }
   ],
   "source": [
    "@welcome\n",
    "def func2():\n",
    "    print(\"\\t\"+\"Hello from func2\")"
   ]
  },
  {
   "cell_type": "code",
   "execution_count": 51,
   "metadata": {},
   "outputs": [],
   "source": [
    "\n",
    "def read_file():\n",
    "    print(\"reading file from conf\")\n",
    "    return read_file\n",
    "    \n",
    "def start_log():\n",
    "    print(\"starting log\")\n",
    "    return start_log\n",
    "\n",
    "def getenvconf(func):\n",
    "    print(\"entry main\")\n",
    "    c = read_file()\n",
    "    d = start_log()\n",
    "    return (c,d)\n",
    "    \n",
    "    "
   ]
  },
  {
   "cell_type": "code",
   "execution_count": 53,
   "metadata": {},
   "outputs": [
    {
     "name": "stdout",
     "output_type": "stream",
     "text": [
      "entry main\n",
      "reading file from conf\n",
      "starting log\n",
      "(<function read_file at 0x11450bdc0>, <function start_log at 0x11450b700>)\n"
     ]
    }
   ],
   "source": [
    "args = 'env2'\n",
    "\n",
    "@getenvconf\n",
    "def start_dl():\n",
    "    print(\"starting d-load\")"
   ]
  },
  {
   "cell_type": "code",
   "execution_count": null,
   "metadata": {},
   "outputs": [],
   "source": []
  },
  {
   "cell_type": "code",
   "execution_count": null,
   "metadata": {},
   "outputs": [],
   "source": []
  }
 ],
 "metadata": {
  "kernelspec": {
   "display_name": "Python 3",
   "language": "python",
   "name": "python3"
  },
  "language_info": {
   "codemirror_mode": {
    "name": "ipython",
    "version": 3
   },
   "file_extension": ".py",
   "mimetype": "text/x-python",
   "name": "python",
   "nbconvert_exporter": "python",
   "pygments_lexer": "ipython3",
   "version": "3.8.2"
  }
 },
 "nbformat": 4,
 "nbformat_minor": 4
}
