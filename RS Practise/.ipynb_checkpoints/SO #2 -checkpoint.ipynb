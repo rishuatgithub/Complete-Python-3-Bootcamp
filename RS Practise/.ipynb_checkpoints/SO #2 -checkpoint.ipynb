{
 "cells": [
  {
   "cell_type": "code",
   "execution_count": null,
   "metadata": {},
   "outputs": [],
   "source": [
    "def afin(day,month,text):\n",
    "\n",
    "    for i in range(len(text)):\n",
    "        asci = ord(text[i]) - 96  ## changed the text[i] to get the ascii value\n",
    "        y = int((day * asci) + month) ## converted to int\n",
    "        while(y > 26):\n",
    "            y -= 26\n",
    "        \n",
    "    \n",
    "    sifrelenmiş_harf = y + 96\n",
    "    sifrelimesaj += sifrelenmiş_harf\n",
    "    \n",
    "\n",
    "\n",
    "text = input(\"Enter Text:\")\n",
    "day = input(\"Birth Day:\")\n",
    "month = input(\"Birth Month:\")\n",
    "print(afin(day,month,text))"
   ]
  },
  {
   "cell_type": "code",
   "execution_count": null,
   "metadata": {},
   "outputs": [],
   "source": []
  }
 ],
 "metadata": {
  "kernelspec": {
   "display_name": "Python 3",
   "language": "python",
   "name": "python3"
  },
  "language_info": {
   "codemirror_mode": {
    "name": "ipython",
    "version": 3
   },
   "file_extension": ".py",
   "mimetype": "text/x-python",
   "name": "python",
   "nbconvert_exporter": "python",
   "pygments_lexer": "ipython3",
   "version": "3.7.4"
  }
 },
 "nbformat": 4,
 "nbformat_minor": 2
}
