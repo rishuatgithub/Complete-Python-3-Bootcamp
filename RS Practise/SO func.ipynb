{
 "cells": [
  {
   "cell_type": "code",
   "execution_count": 7,
   "metadata": {},
   "outputs": [
    {
     "name": "stdout",
     "output_type": "stream",
     "text": [
      "please enter the value of minutes you want to convert 123\n",
      "123minutes is equivalent to 2.05 hours. This is also equivalent to 7380 seconds.\n"
     ]
    }
   ],
   "source": [
    "def minutes_to_hours (minutes):\n",
    "    hours = minutes/60\n",
    "    seconds= minutes*60 \n",
    "    return [minutes, hours, seconds]\n",
    "\n",
    "m= int((input (\"please enter the value of minutes you want to convert \"))) \n",
    "\n",
    "result = minutes_to_hours(m)\n",
    "\n",
    "print(f\"{result[0]}minutes is equivalent to {result[1]} hours. This is also equivalent to {result[2]} seconds.\")"
   ]
  },
  {
   "cell_type": "code",
   "execution_count": null,
   "metadata": {},
   "outputs": [],
   "source": []
  }
 ],
 "metadata": {
  "kernelspec": {
   "display_name": "Python 3",
   "language": "python",
   "name": "python3"
  },
  "language_info": {
   "codemirror_mode": {
    "name": "ipython",
    "version": 3
   },
   "file_extension": ".py",
   "mimetype": "text/x-python",
   "name": "python",
   "nbconvert_exporter": "python",
   "pygments_lexer": "ipython3",
   "version": "3.7.4"
  }
 },
 "nbformat": 4,
 "nbformat_minor": 2
}
